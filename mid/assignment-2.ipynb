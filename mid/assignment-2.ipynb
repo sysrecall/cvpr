{
 "cells": [
  {
   "cell_type": "markdown",
   "id": "f9ba97bd",
   "metadata": {
    "execution": {
     "iopub.execute_input": "2025-05-07T17:20:42.658551Z",
     "iopub.status.busy": "2025-05-07T17:20:42.658202Z",
     "iopub.status.idle": "2025-05-07T17:20:42.663186Z",
     "shell.execute_reply": "2025-05-07T17:20:42.662119Z",
     "shell.execute_reply.started": "2025-05-07T17:20:42.658518Z"
    },
    "papermill": {
     "duration": 0.004784,
     "end_time": "2025-05-08T04:13:38.899000",
     "exception": false,
     "start_time": "2025-05-08T04:13:38.894216",
     "status": "completed"
    },
    "tags": []
   },
   "source": [
    "# Implementation of a three hidden layer neural network for multi-class classification"
   ]
  },
  {
   "cell_type": "code",
   "execution_count": 1,
   "id": "d6a25b4c",
   "metadata": {
    "_cell_guid": "4f01a67d-644f-4fa1-9435-cf3266a9a945",
    "_uuid": "b7a9f0cb-de0a-4251-b6a5-3531a4aea75e",
    "collapsed": false,
    "execution": {
     "iopub.execute_input": "2025-05-08T04:13:38.908209Z",
     "iopub.status.busy": "2025-05-08T04:13:38.907896Z",
     "iopub.status.idle": "2025-05-08T04:13:40.650028Z",
     "shell.execute_reply": "2025-05-08T04:13:40.649175Z"
    },
    "jupyter": {
     "outputs_hidden": false
    },
    "papermill": {
     "duration": 1.7485,
     "end_time": "2025-05-08T04:13:40.651654",
     "exception": false,
     "start_time": "2025-05-08T04:13:38.903154",
     "status": "completed"
    },
    "tags": []
   },
   "outputs": [],
   "source": [
    "import numpy as np\n",
    "import pandas as pd\n",
    "import matplotlib.pyplot as plt\n",
    "from tqdm import tqdm\n",
    "\n",
    "np.random.seed(1337)"
   ]
  },
  {
   "cell_type": "markdown",
   "id": "9c540baa",
   "metadata": {
    "papermill": {
     "duration": 0.003661,
     "end_time": "2025-05-08T04:13:40.659575",
     "exception": false,
     "start_time": "2025-05-08T04:13:40.655914",
     "status": "completed"
    },
    "tags": []
   },
   "source": [
    "# Dataset Generation"
   ]
  },
  {
   "cell_type": "code",
   "execution_count": 2,
   "id": "aefb1ac2",
   "metadata": {
    "_cell_guid": "28820fb3-c6de-462f-88bf-dff280815255",
    "_uuid": "f4d20de3-7c0f-462a-b0f1-519eaf757d6f",
    "collapsed": false,
    "execution": {
     "iopub.execute_input": "2025-05-08T04:13:40.668670Z",
     "iopub.status.busy": "2025-05-08T04:13:40.668212Z",
     "iopub.status.idle": "2025-05-08T04:13:40.698103Z",
     "shell.execute_reply": "2025-05-08T04:13:40.697297Z"
    },
    "jupyter": {
     "outputs_hidden": false
    },
    "papermill": {
     "duration": 0.036344,
     "end_time": "2025-05-08T04:13:40.699815",
     "exception": false,
     "start_time": "2025-05-08T04:13:40.663471",
     "status": "completed"
    },
    "tags": []
   },
   "outputs": [],
   "source": [
    "num_rows = 1000\n",
    "num_features = 4\n",
    "num_classes = 5\n",
    "\n",
    "class_centers = np.random.randn(num_classes, num_features)\n",
    "labels = np.random.randint(0, num_classes, size=num_rows)\n",
    "features = class_centers[labels] + np.random.randn(num_rows, num_features)\n",
    "\n",
    "feature_columns = [f'feature_{i+1}' for i in range(num_features)]\n",
    "df = pd.DataFrame(features, columns=feature_columns)\n",
    "\n",
    "df['class'] = labels\n",
    "\n",
    "# save\n",
    "df.to_csv('dataset.csv', index=False)"
   ]
  },
  {
   "cell_type": "code",
   "execution_count": 3,
   "id": "e9104441",
   "metadata": {
    "_cell_guid": "daa33777-e350-4ccd-985a-8e491e372a74",
    "_uuid": "425254ad-3206-4cce-b9eb-ad55647510a7",
    "collapsed": false,
    "execution": {
     "iopub.execute_input": "2025-05-08T04:13:40.709399Z",
     "iopub.status.busy": "2025-05-08T04:13:40.708799Z",
     "iopub.status.idle": "2025-05-08T04:13:40.730988Z",
     "shell.execute_reply": "2025-05-08T04:13:40.730170Z"
    },
    "jupyter": {
     "outputs_hidden": false
    },
    "papermill": {
     "duration": 0.028453,
     "end_time": "2025-05-08T04:13:40.732469",
     "exception": false,
     "start_time": "2025-05-08T04:13:40.704016",
     "status": "completed"
    },
    "tags": []
   },
   "outputs": [
    {
     "data": {
      "text/html": [
       "<div>\n",
       "<style scoped>\n",
       "    .dataframe tbody tr th:only-of-type {\n",
       "        vertical-align: middle;\n",
       "    }\n",
       "\n",
       "    .dataframe tbody tr th {\n",
       "        vertical-align: top;\n",
       "    }\n",
       "\n",
       "    .dataframe thead th {\n",
       "        text-align: right;\n",
       "    }\n",
       "</style>\n",
       "<table border=\"1\" class=\"dataframe\">\n",
       "  <thead>\n",
       "    <tr style=\"text-align: right;\">\n",
       "      <th></th>\n",
       "      <th>feature_1</th>\n",
       "      <th>feature_2</th>\n",
       "      <th>feature_3</th>\n",
       "      <th>feature_4</th>\n",
       "      <th>class</th>\n",
       "    </tr>\n",
       "  </thead>\n",
       "  <tbody>\n",
       "    <tr>\n",
       "      <th>0</th>\n",
       "      <td>0.205578</td>\n",
       "      <td>-1.813112</td>\n",
       "      <td>-1.123159</td>\n",
       "      <td>1.340638</td>\n",
       "      <td>1</td>\n",
       "    </tr>\n",
       "    <tr>\n",
       "      <th>1</th>\n",
       "      <td>0.883037</td>\n",
       "      <td>0.072353</td>\n",
       "      <td>0.070816</td>\n",
       "      <td>-3.067348</td>\n",
       "      <td>4</td>\n",
       "    </tr>\n",
       "    <tr>\n",
       "      <th>2</th>\n",
       "      <td>-1.259508</td>\n",
       "      <td>-1.507080</td>\n",
       "      <td>1.633568</td>\n",
       "      <td>-1.172304</td>\n",
       "      <td>4</td>\n",
       "    </tr>\n",
       "    <tr>\n",
       "      <th>3</th>\n",
       "      <td>0.272367</td>\n",
       "      <td>-0.260505</td>\n",
       "      <td>2.183088</td>\n",
       "      <td>-1.490775</td>\n",
       "      <td>4</td>\n",
       "    </tr>\n",
       "    <tr>\n",
       "      <th>4</th>\n",
       "      <td>2.348281</td>\n",
       "      <td>-1.767244</td>\n",
       "      <td>0.826925</td>\n",
       "      <td>-1.355650</td>\n",
       "      <td>2</td>\n",
       "    </tr>\n",
       "  </tbody>\n",
       "</table>\n",
       "</div>"
      ],
      "text/plain": [
       "   feature_1  feature_2  feature_3  feature_4  class\n",
       "0   0.205578  -1.813112  -1.123159   1.340638      1\n",
       "1   0.883037   0.072353   0.070816  -3.067348      4\n",
       "2  -1.259508  -1.507080   1.633568  -1.172304      4\n",
       "3   0.272367  -0.260505   2.183088  -1.490775      4\n",
       "4   2.348281  -1.767244   0.826925  -1.355650      2"
      ]
     },
     "execution_count": 3,
     "metadata": {},
     "output_type": "execute_result"
    }
   ],
   "source": [
    "# df = pd.read_csv('dataset.csv')\n",
    "df.head()"
   ]
  },
  {
   "cell_type": "code",
   "execution_count": 4,
   "id": "7e980f0b",
   "metadata": {
    "_cell_guid": "7da6f5ee-26ec-4228-86d5-0484adf039a0",
    "_uuid": "3ab7cc34-3db9-4d4c-a6a9-6bd175c36614",
    "collapsed": false,
    "execution": {
     "iopub.execute_input": "2025-05-08T04:13:40.742392Z",
     "iopub.status.busy": "2025-05-08T04:13:40.741656Z",
     "iopub.status.idle": "2025-05-08T04:13:40.746049Z",
     "shell.execute_reply": "2025-05-08T04:13:40.745468Z"
    },
    "jupyter": {
     "outputs_hidden": false
    },
    "papermill": {
     "duration": 0.01059,
     "end_time": "2025-05-08T04:13:40.747352",
     "exception": false,
     "start_time": "2025-05-08T04:13:40.736762",
     "status": "completed"
    },
    "tags": []
   },
   "outputs": [],
   "source": [
    "X = df.to_numpy()[:,:-1]\n",
    "Y = df.to_numpy(dtype=np.int8)[:,-1]"
   ]
  },
  {
   "cell_type": "code",
   "execution_count": 5,
   "id": "689e8c47",
   "metadata": {
    "_cell_guid": "7dc62b8d-76e5-46ed-8b17-0194c8e7928c",
    "_uuid": "5c76be86-a30a-4c23-8d86-44109a65b1ea",
    "collapsed": false,
    "execution": {
     "iopub.execute_input": "2025-05-08T04:13:40.757023Z",
     "iopub.status.busy": "2025-05-08T04:13:40.756520Z",
     "iopub.status.idle": "2025-05-08T04:13:40.761847Z",
     "shell.execute_reply": "2025-05-08T04:13:40.761065Z"
    },
    "jupyter": {
     "outputs_hidden": false
    },
    "papermill": {
     "duration": 0.01167,
     "end_time": "2025-05-08T04:13:40.763236",
     "exception": false,
     "start_time": "2025-05-08T04:13:40.751566",
     "status": "completed"
    },
    "tags": []
   },
   "outputs": [],
   "source": [
    "# one hot encoding\n",
    "tmp = np.zeros((Y.size, Y.max()+1), dtype=np.int8)\n",
    "tmp[np.arange(Y.size), Y] = 1\n",
    "Y = tmp\n",
    "# print(Y[0])"
   ]
  },
  {
   "cell_type": "markdown",
   "id": "498b5355",
   "metadata": {
    "papermill": {
     "duration": 0.003846,
     "end_time": "2025-05-08T04:13:40.771331",
     "exception": false,
     "start_time": "2025-05-08T04:13:40.767485",
     "status": "completed"
    },
    "tags": []
   },
   "source": [
    "## Activation function formulas:\n",
    "**ReLU (Rectified Linear Unit):**\n",
    "\n",
    "$$\n",
    "\\text{ReLU}(x) = \\max(0, x)\n",
    "$$\n",
    "\n",
    "**Softmax:**\n",
    "\n",
    "Given a vector $ \\mathbf{z} = [z_1, z_2, \\dots, z_n]$:\n",
    "\n",
    "$$\n",
    "\\text{Softmax}(z_i) = \\frac{e^{z_i}}{\\sum_{j=1}^n e^{z_j}}\n",
    "$$\n"
   ]
  },
  {
   "cell_type": "code",
   "execution_count": 6,
   "id": "bda06ae1",
   "metadata": {
    "_cell_guid": "a5fa8b35-b2bf-4b5d-aaef-38a3ab6a4fd8",
    "_uuid": "d08a1931-2d41-4e61-9aa4-6e3b6f5aefad",
    "collapsed": false,
    "execution": {
     "iopub.execute_input": "2025-05-08T04:13:40.780894Z",
     "iopub.status.busy": "2025-05-08T04:13:40.780167Z",
     "iopub.status.idle": "2025-05-08T04:13:40.792567Z",
     "shell.execute_reply": "2025-05-08T04:13:40.791879Z"
    },
    "jupyter": {
     "outputs_hidden": false
    },
    "papermill": {
     "duration": 0.018523,
     "end_time": "2025-05-08T04:13:40.793848",
     "exception": false,
     "start_time": "2025-05-08T04:13:40.775325",
     "status": "completed"
    },
    "tags": []
   },
   "outputs": [],
   "source": [
    "class NeuralNetwork(object):\n",
    "    def __init__(self):\n",
    "        inputLayerNeurons = 4\n",
    "        hiddenLayerNeurons_1 = 16\n",
    "        hiddenLayerNeurons_2 = 8\n",
    "        hiddenLayerNeurons_3 = 8\n",
    "        outLayerNeurons = 5    \n",
    "\n",
    "        self.learning_rate = 0.001\n",
    "\n",
    "        self.W_HI_1 = np.random.randn(inputLayerNeurons, hiddenLayerNeurons_1)\n",
    "        self.W_HI_2 = np.random.randn(hiddenLayerNeurons_1, hiddenLayerNeurons_2)\n",
    "        self.W_HI_3 = np.random.randn(hiddenLayerNeurons_2, hiddenLayerNeurons_3)\n",
    "        self.W_OH = np.random.randn(hiddenLayerNeurons_3, outLayerNeurons)\n",
    "\n",
    "        # added bias for better convergence\n",
    "        self.b_HI_1 = np.zeros((1, hiddenLayerNeurons_1))\n",
    "        self.b_HI_2 = np.zeros((1, hiddenLayerNeurons_2))\n",
    "        self.b_HI_3 = np.zeros((1, hiddenLayerNeurons_3))\n",
    "        self.b_OH = np.zeros((1, outLayerNeurons))\n",
    "\n",
    "    def softmax(self, x, der=False):\n",
    "        e_x = np.exp(x - np.max(x, axis=1, keepdims=True))\n",
    "        return e_x / np.sum(e_x, axis=1, keepdims=True)\n",
    "\n",
    "    def relu(self, x, der=False):\n",
    "        if der:\n",
    "            return (x > 0).astype(float)\n",
    "        return np.maximum(0, x)\n",
    "        \n",
    "    def feedForward(self, X):\n",
    "        hidden_input_1 = np.dot(X, self.W_HI_1) + self.b_HI_1\n",
    "        self.hidden_output_1 = self.relu(hidden_input_1)\n",
    "        \n",
    "        hidden_input_2 = np.dot(self.hidden_output_1, self.W_HI_2) + self.b_HI_2\n",
    "        self.hidden_output_2 = self.relu(hidden_input_2)\n",
    "\n",
    "        hidden_input_3 = np.dot(self.hidden_output_2, self.W_HI_3) + self.b_HI_3\n",
    "        self.hidden_output_3 = self.relu(hidden_input_3)\n",
    "        \n",
    "        output_input = np.dot(self.hidden_output_3, self.W_OH) + self.b_OH\n",
    "        pred = self.softmax(output_input)\n",
    "        \n",
    "        return pred\n",
    "        \n",
    "    def backPropagation(self, X, Y, pred):\n",
    "        output_delta = (pred - Y) / X.shape[0]\n",
    "        \n",
    "        hidden_error_3 = output_delta.dot(self.W_OH.T)\n",
    "        hidden_delta_3 = hidden_error_3 * self.relu(self.hidden_output_3, der=True)\n",
    "        \n",
    "        hidden_error_2 = hidden_delta_3.dot(self.W_HI_3.T)\n",
    "        hidden_delta_2 = hidden_error_2 * self.relu(self.hidden_output_2, der=True)\n",
    "        \n",
    "        hidden_error_1 = hidden_delta_2.dot(self.W_HI_2.T)\n",
    "        hidden_delta_1 = hidden_error_1 * self.relu(self.hidden_output_1, der=True)\n",
    "        \n",
    "        self.W_HI_1 -= self.learning_rate * X.T.dot(hidden_delta_1)\n",
    "        self.W_HI_2 -= self.learning_rate * self.hidden_output_1.T.dot(hidden_delta_2)\n",
    "        self.W_HI_3 -= self.learning_rate * self.hidden_output_2.T.dot(hidden_delta_3)\n",
    "        self.W_OH -= self.learning_rate * self.hidden_output_3.T.dot(output_delta)\n",
    "\n",
    "        self.b_HI_1 -= self.learning_rate * np.sum(hidden_delta_1, axis=0, keepdims=True)\n",
    "        self.b_HI_2 -= self.learning_rate * np.sum(hidden_delta_2, axis=0, keepdims=True)\n",
    "        self.b_HI_3 -= self.learning_rate * np.sum(hidden_delta_3, axis=0, keepdims=True)\n",
    "        self.b_OH -= self.learning_rate * np.sum(output_delta, axis=0, keepdims=True)\n",
    "        \n",
    "    def train(self, X, Y, train=True):\n",
    "        output = self.feedForward(X)\n",
    "        self.backPropagation(X, Y, output)"
   ]
  },
  {
   "cell_type": "markdown",
   "id": "55098442",
   "metadata": {
    "papermill": {
     "duration": 0.003882,
     "end_time": "2025-05-08T04:13:40.801845",
     "exception": false,
     "start_time": "2025-05-08T04:13:40.797963",
     "status": "completed"
    },
    "tags": []
   },
   "source": [
    "# Training, Validation and Testing split"
   ]
  },
  {
   "cell_type": "code",
   "execution_count": 7,
   "id": "12b2e397",
   "metadata": {
    "_cell_guid": "e64f0917-1d3a-4819-8fe5-dd56294f4734",
    "_uuid": "13a49043-7188-4cd7-b74d-2938b6476e33",
    "collapsed": false,
    "execution": {
     "iopub.execute_input": "2025-05-08T04:13:40.810812Z",
     "iopub.status.busy": "2025-05-08T04:13:40.810536Z",
     "iopub.status.idle": "2025-05-08T04:13:40.815653Z",
     "shell.execute_reply": "2025-05-08T04:13:40.814796Z"
    },
    "jupyter": {
     "outputs_hidden": false
    },
    "papermill": {
     "duration": 0.011226,
     "end_time": "2025-05-08T04:13:40.816971",
     "exception": false,
     "start_time": "2025-05-08T04:13:40.805745",
     "status": "completed"
    },
    "tags": []
   },
   "outputs": [],
   "source": [
    "train_count = 800\n",
    "val_count = 100\n",
    "test_count = 100\n",
    "\n",
    "X_train = X[:train_count]\n",
    "Y_train = Y[:train_count]\n",
    "X_val = X[train_count:train_count+val_count]\n",
    "Y_val = Y[train_count:train_count+val_count]\n",
    "X_test = X[train_count+val_count:]\n",
    "Y_test = Y[train_count+val_count:]"
   ]
  },
  {
   "cell_type": "markdown",
   "id": "4fbe2cbf",
   "metadata": {
    "papermill": {
     "duration": 0.003782,
     "end_time": "2025-05-08T04:13:40.824836",
     "exception": false,
     "start_time": "2025-05-08T04:13:40.821054",
     "status": "completed"
    },
    "tags": []
   },
   "source": [
    "### Cross-Entropy Loss:\n",
    "\n",
    "For a binary classification problem, the cross-entropy loss between the true label $ y $ and the predicted probability $ \\hat{y} $ is:\n",
    "\n",
    "$$\n",
    "L(y, \\hat{y}) = - \\left[ y \\log(\\hat{y}) + (1 - y) \\log(1 - \\hat{y}) \\right]\n",
    "$$\n",
    "\n",
    "For a multi-class classification problem, the cross-entropy loss for a vector of true labels $ \\mathbf{y} = [y_1, y_2, \\dots, y_n] $ and predicted probabilities $ \\hat{\\mathbf{y}} = [\\hat{y}_1, \\hat{y}_2, \\dots, \\hat{y}_n] $ is:\n",
    "\n",
    "$$\n",
    "L(\\mathbf{y}, \\hat{\\mathbf{y}}) = - \\sum_{i=1}^n y_i \\log(\\hat{y}_i)\n",
    "$$\n"
   ]
  },
  {
   "cell_type": "code",
   "execution_count": 8,
   "id": "c9434da5",
   "metadata": {
    "_cell_guid": "7169b509-0c7d-48ab-a1b2-f78125ecad9b",
    "_uuid": "55a1814b-a37a-46ea-831d-875ba1a34969",
    "collapsed": false,
    "execution": {
     "iopub.execute_input": "2025-05-08T04:13:40.834415Z",
     "iopub.status.busy": "2025-05-08T04:13:40.833682Z",
     "iopub.status.idle": "2025-05-08T04:13:40.838072Z",
     "shell.execute_reply": "2025-05-08T04:13:40.837308Z"
    },
    "jupyter": {
     "outputs_hidden": false
    },
    "papermill": {
     "duration": 0.010548,
     "end_time": "2025-05-08T04:13:40.839453",
     "exception": false,
     "start_time": "2025-05-08T04:13:40.828905",
     "status": "completed"
    },
    "tags": []
   },
   "outputs": [],
   "source": [
    "# cross entropy is suited for multi class classification loss\n",
    "def cross_entropy_loss(Y, pred):\n",
    "    return -np.sum(Y * np.log(pred + 1e-9)) / Y.shape[0]"
   ]
  },
  {
   "cell_type": "code",
   "execution_count": 9,
   "id": "0f8100db",
   "metadata": {
    "_cell_guid": "a1424f78-766c-454c-bf5c-acee833593f8",
    "_uuid": "ac1ecb60-d747-4078-8d3b-8b9590869ed4",
    "collapsed": false,
    "execution": {
     "iopub.execute_input": "2025-05-08T04:13:40.848671Z",
     "iopub.status.busy": "2025-05-08T04:13:40.848390Z",
     "iopub.status.idle": "2025-05-08T04:15:59.545314Z",
     "shell.execute_reply": "2025-05-08T04:15:59.544310Z"
    },
    "jupyter": {
     "outputs_hidden": false
    },
    "papermill": {
     "duration": 138.703584,
     "end_time": "2025-05-08T04:15:59.547120",
     "exception": false,
     "start_time": "2025-05-08T04:13:40.843536",
     "status": "completed"
    },
    "tags": []
   },
   "outputs": [
    {
     "name": "stderr",
     "output_type": "stream",
     "text": [
      "100%|██████████| 50000/50000 [02:18<00:00, 360.54it/s, train_loss=0.605, val_loss=0.695]\n"
     ]
    }
   ],
   "source": [
    "# train\n",
    "NN = NeuralNetwork()\n",
    "epochs = 50_000\n",
    "\n",
    "err_train = []\n",
    "err_val = []\n",
    "\n",
    "bar = tqdm(range(epochs))\n",
    "\n",
    "for i in bar:\n",
    "    NN.train(X_train, Y_train)\n",
    "    loss_train = cross_entropy_loss(Y_train, NN.feedForward(X_train))\n",
    "    err_train.append(loss_train)\n",
    "\n",
    "    loss_val = cross_entropy_loss(Y_val, NN.feedForward(X_val))\n",
    "    err_val.append(loss_val)\n",
    "\n",
    "    # if i % 1000 == 0:\n",
    "    #     print(f\"[{i}] train loss: {loss_train}, test loss: {loss_test}\")\n",
    "\n",
    "    bar.set_postfix(train_loss=loss_train, val_loss=loss_val)"
   ]
  },
  {
   "cell_type": "markdown",
   "id": "34e84453",
   "metadata": {
    "papermill": {
     "duration": 2.546715,
     "end_time": "2025-05-08T04:16:04.719070",
     "exception": false,
     "start_time": "2025-05-08T04:16:02.172355",
     "status": "completed"
    },
    "tags": []
   },
   "source": [
    "# Results and Analysis"
   ]
  },
  {
   "cell_type": "code",
   "execution_count": 10,
   "id": "fcf22a8a",
   "metadata": {
    "_cell_guid": "392d3861-e966-4deb-95ff-c1aa8e4cf6e6",
    "_uuid": "a44436a7-1a5c-4ce5-879d-11463bdd7efe",
    "collapsed": false,
    "execution": {
     "iopub.execute_input": "2025-05-08T04:16:09.844041Z",
     "iopub.status.busy": "2025-05-08T04:16:09.843749Z",
     "iopub.status.idle": "2025-05-08T04:16:10.347907Z",
     "shell.execute_reply": "2025-05-08T04:16:10.347098Z"
    },
    "jupyter": {
     "outputs_hidden": false
    },
    "papermill": {
     "duration": 3.017911,
     "end_time": "2025-05-08T04:16:10.349212",
     "exception": false,
     "start_time": "2025-05-08T04:16:07.331301",
     "status": "completed"
    },
    "tags": []
   },
   "outputs": [
    {
     "data": {
      "text/plain": [
       "Text(0, 0.5, 'Loss')"
      ]
     },
     "execution_count": 10,
     "metadata": {},
     "output_type": "execute_result"
    },
    {
     "data": {
      "image/png": "[encoded data removed]",
      "text/plain": [
       "<Figure size 1000x500 with 2 Axes>"
      ]
     },
     "metadata": {},
     "output_type": "display_data"
    }
   ],
   "source": [
    "plt.figure(figsize=(10, 5))\n",
    "plt.subplot(1, 2, 1)\n",
    "plt.plot(err_train)\n",
    "plt.title('Training')\n",
    "plt.xlabel('Epoch')\n",
    "plt.ylabel('Loss')\n",
    "\n",
    "plt.subplot(1, 2, 2)\n",
    "plt.plot(err_val)\n",
    "plt.title('Validation')\n",
    "plt.xlabel('Epoch')\n",
    "plt.ylabel('Loss')"
   ]
  },
  {
   "cell_type": "code",
   "execution_count": 11,
   "id": "67d40965",
   "metadata": {
    "_cell_guid": "e2964a54-8944-459d-9f66-06731d1869ee",
    "_uuid": "e08abd8b-0e72-4b6a-a321-a8d4c94b1f99",
    "collapsed": false,
    "execution": {
     "iopub.execute_input": "2025-05-08T04:16:15.460697Z",
     "iopub.status.busy": "2025-05-08T04:16:15.460375Z",
     "iopub.status.idle": "2025-05-08T04:16:15.465620Z",
     "shell.execute_reply": "2025-05-08T04:16:15.464816Z"
    },
    "jupyter": {
     "outputs_hidden": false
    },
    "papermill": {
     "duration": 2.511519,
     "end_time": "2025-05-08T04:16:15.467003",
     "exception": false,
     "start_time": "2025-05-08T04:16:12.955484",
     "status": "completed"
    },
    "tags": []
   },
   "outputs": [],
   "source": [
    "# test\n",
    "test_loss = cross_entropy_loss(Y_test, NN.feedForward(X_test))"
   ]
  },
  {
   "cell_type": "code",
   "execution_count": 12,
   "id": "a594b4c8",
   "metadata": {
    "_cell_guid": "740c50e3-9abb-4f9e-bc33-71dc93d32214",
    "_uuid": "a57bf2b2-9717-416a-b343-04130912d42e",
    "collapsed": false,
    "execution": {
     "iopub.execute_input": "2025-05-08T04:16:20.638656Z",
     "iopub.status.busy": "2025-05-08T04:16:20.638178Z",
     "iopub.status.idle": "2025-05-08T04:16:20.643120Z",
     "shell.execute_reply": "2025-05-08T04:16:20.642177Z"
    },
    "jupyter": {
     "outputs_hidden": false
    },
    "papermill": {
     "duration": 2.590275,
     "end_time": "2025-05-08T04:16:20.644434",
     "exception": false,
     "start_time": "2025-05-08T04:16:18.054159",
     "status": "completed"
    },
    "tags": []
   },
   "outputs": [
    {
     "name": "stdout",
     "output_type": "stream",
     "text": [
      "test error: 0.8506736573346552\n"
     ]
    }
   ],
   "source": [
    "print('test error:', test_loss)"
   ]
  },
  {
   "cell_type": "markdown",
   "id": "6663136b",
   "metadata": {
    "papermill": {
     "duration": 2.62539,
     "end_time": "2025-05-08T04:16:25.790474",
     "exception": false,
     "start_time": "2025-05-08T04:16:23.165084",
     "status": "completed"
    },
    "tags": []
   },
   "source": [
    "# Discussion\n",
    "\n",
    "To improve model performance and address overfitting, we adjusted the learning rate accordingly. We increased the number of hidden layers from one to three to enhance the model's capacity to capture complex patterns in the data. The dataset used for training consists of `4` input features and `5` distinct class labels. To handle multi class classification, we applied the `softmax` activation function in the output layer. We also use the `cross entropy` loss function, which is well necessary for multi class classification tasks.\n",
    "\n",
    "After running the model for `30000` epochs we got a `training loss` = `0.605`, `validation loss` = `0.695` and `testing loss` = `0.850`. "
   ]
  },
  {
   "cell_type": "markdown",
   "id": "db349b16",
   "metadata": {
    "papermill": {
     "duration": 2.591536,
     "end_time": "2025-05-08T04:16:30.867868",
     "exception": false,
     "start_time": "2025-05-08T04:16:28.276332",
     "status": "completed"
    },
    "tags": []
   },
   "source": [
    "# Conclusion"
   ]
  },
  {
   "cell_type": "markdown",
   "id": "5739c9e2",
   "metadata": {
    "papermill": {
     "duration": 2.487553,
     "end_time": "2025-05-08T04:16:35.946122",
     "exception": false,
     "start_time": "2025-05-08T04:16:33.458569",
     "status": "completed"
    },
    "tags": []
   },
   "source": [
    "This model performs decently on the synthetic dataset. The main challenge is choosing the right activation functions and selecting the appropriate loss function for the task. The model could be improved by adding more depth and allowing it to train for a longer duration."
   ]
  },
  {
   "cell_type": "code",
   "execution_count": null,
   "id": "60d9f3aa",
   "metadata": {
    "papermill": {
     "duration": 2.533495,
     "end_time": "2025-05-08T04:16:41.057659",
     "exception": false,
     "start_time": "2025-05-08T04:16:38.524164",
     "status": "completed"
    },
    "tags": []
   },
   "outputs": [],
   "source": []
  }
 ],
 "metadata": {
  "kaggle": {
   "accelerator": "none",
   "dataSources": [],
   "dockerImageVersionId": 31012,
   "isGpuEnabled": false,
   "isInternetEnabled": true,
   "language": "python",
   "sourceType": "notebook"
  },
  "kernelspec": {
   "display_name": "Python 3 (ipykernel)",
   "language": "python",
   "name": "python3"
  },
  "language_info": {
   "codemirror_mode": {
    "name": "ipython",
    "version": 3
   },
   "file_extension": ".py",
   "mimetype": "text/x-python",
   "name": "python",
   "nbconvert_exporter": "python",
   "pygments_lexer": "ipython3",
   "version": "3.13.2"
  },
  "papermill": {
   "default_parameters": {},
   "duration": 189.777901,
   "end_time": "2025-05-08T04:16:44.116796",
   "environment_variables": {},
   "exception": null,
   "input_path": "__notebook__.ipynb",
   "output_path": "__notebook__.ipynb",
   "parameters": {},
   "start_time": "2025-05-08T04:13:34.338895",
   "version": "2.6.0"
  }
 },
 "nbformat": 4,
 "nbformat_minor": 5
}
